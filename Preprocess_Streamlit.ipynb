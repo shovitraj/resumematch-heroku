{
 "cells": [
  {
   "cell_type": "code",
   "execution_count": 40,
   "id": "pregnant-improvement",
   "metadata": {},
   "outputs": [],
   "source": [
    "import nltk\n",
    "import os\n",
    "import string\n",
    "from nltk.corpus import stopwords\n",
    "from nltk.tokenize import word_tokenize\n",
    "from collections import Counter\n",
    "import numpy as np\n",
    "\n",
    "from sklearn.metrics.pairwise import cosine_similarity,cosine_distances\n",
    "\n",
    "ps = nltk.PorterStemmer()\n",
    "sw = set(stopwords.words('english'))\n",
    "\n",
    "from tika import parser\n",
    "import string\n",
    "\n"
   ]
  },
  {
   "cell_type": "code",
   "execution_count": 44,
   "id": "joined-wallace",
   "metadata": {},
   "outputs": [],
   "source": [
    "def preprocess(filename):\n",
    "    if filename.endswith('.pdf'):\n",
    "        parsed_resume = parser.from_file(filename)\n",
    "        text = parsed_resume['content']\n",
    "    elif filename.endswith('.txt'):\n",
    "        with open(filename) as f:\n",
    "            text = f.readlines()\n",
    "    punct = \"\".join(string.punctuation + str('\\n●'))\n",
    "    text = \"\".join([char.lower() for char in text if char not in punct])\n",
    "    tokens = word_tokenize(text)\n",
    "    # remove all tokens that are not alphabetic\n",
    "    wordsisalpha = [word for word in tokens if word.isalpha()]\n",
    "    #stemmed = [ps.stem(word) for word in wordsisalpha]\n",
    "    final_token = [word for word in wordsisalpha if word not in sw]\n",
    "    word_count = Counter(final_token)\n",
    "    return word_count"
   ]
  },
  {
   "cell_type": "code",
   "execution_count": 45,
   "id": "understanding-pattern",
   "metadata": {},
   "outputs": [],
   "source": [
    "def cosSimilarity(x, y):\n",
    "    dot_product = np.dot(x,y)\n",
    "    normx = np.linalg.norm(x)\n",
    "    normy = np.linalg.norm(y)\n",
    "    similarity = dot_product / (normx * normy)\n",
    "    return similarity"
   ]
  },
  {
   "cell_type": "code",
   "execution_count": 46,
   "id": "competitive-vitamin",
   "metadata": {},
   "outputs": [],
   "source": [
    "def Similarity(dict1, dict2):\n",
    "    words_list = []\n",
    "    for key in dict1:\n",
    "        words_list.append(key)\n",
    "    for key in dict2:\n",
    "        words_list.append(key)\n",
    "    list_size = len(words_list)\n",
    "    \n",
    "    v1 = np.zeros(list_size, dtype= np.int)\n",
    "    v2 = np.zeros(list_size, dtype= np.int)\n",
    "    \n",
    "    i = 0\n",
    "    for (key) in words_list:\n",
    "        v1[i] = dict1.get(key,0)\n",
    "        v2[i] = dict2.get(key,0)\n",
    "        i = i+1\n",
    "    return cosSimilarity(v1, v2)"
   ]
  },
  {
   "cell_type": "code",
   "execution_count": 47,
   "id": "regulation-thickness",
   "metadata": {},
   "outputs": [],
   "source": [
    "job = preprocess('./Resume/jobr.txt')\n",
    "resume = preprocess('./Resume/RDouglas.pdf')"
   ]
  },
  {
   "cell_type": "code",
   "execution_count": 48,
   "id": "brave-artist",
   "metadata": {},
   "outputs": [],
   "source": [
    "matchPercentage = (Similarity(job, resume)*100)"
   ]
  },
  {
   "cell_type": "code",
   "execution_count": 49,
   "id": "diagnostic-regulation",
   "metadata": {},
   "outputs": [
    {
     "data": {
      "text/plain": [
       "53.7298369740532"
      ]
     },
     "execution_count": 49,
     "metadata": {},
     "output_type": "execute_result"
    }
   ],
   "source": [
    "matchPercentage"
   ]
  },
  {
   "cell_type": "code",
   "execution_count": 2,
   "id": "empty-guide",
   "metadata": {},
   "outputs": [
    {
     "name": "stdout",
     "output_type": "stream",
     "text": [
      "Overwriting app.py\n"
     ]
    }
   ],
   "source": [
    "%%writefile app.py\n",
    "from nlp import preprocess\n",
    "from nlp import Similarity\n",
    "import streamlit as st \n",
    "import numpy as np\n",
    "\n",
    "st.title('Resume Match')\n",
    "\n",
    "job = st.text_area('Paste your Job Description')\n",
    "resume = st.text_area('Paste your Resume')\n",
    "# job = st.file_uploader('Upload Job Descripltion')\n",
    "\n",
    "job = preprocess(job)\n",
    "resume = preprocess(resume)\n",
    "\n",
    "matchPercentage = np.round((Similarity(job, resume)*100),2)\n",
    "\n",
    "st.write(\"Your Resume matched\", matchPercentage, '% with the job description')\n",
    "\n"
   ]
  },
  {
   "cell_type": "code",
   "execution_count": null,
   "id": "scientific-smile",
   "metadata": {},
   "outputs": [],
   "source": []
  }
 ],
 "metadata": {
  "kernelspec": {
   "display_name": "Python 3",
   "language": "python",
   "name": "python3"
  },
  "language_info": {
   "codemirror_mode": {
    "name": "ipython",
    "version": 3
   },
   "file_extension": ".py",
   "mimetype": "text/x-python",
   "name": "python",
   "nbconvert_exporter": "python",
   "pygments_lexer": "ipython3",
   "version": "3.8.5"
  },
  "latex_envs": {
   "LaTeX_envs_menu_present": true,
   "autoclose": false,
   "autocomplete": true,
   "bibliofile": "biblio.bib",
   "cite_by": "apalike",
   "current_citInitial": 1,
   "eqLabelWithNumbers": true,
   "eqNumInitial": 1,
   "hotkeys": {
    "equation": "Ctrl-E",
    "itemize": "Ctrl-I"
   },
   "labels_anchors": false,
   "latex_user_defs": false,
   "report_style_numbering": false,
   "user_envs_cfg": false
  },
  "nbTranslate": {
   "displayLangs": [
    "*"
   ],
   "hotkey": "alt-t",
   "langInMainMenu": true,
   "sourceLang": "en",
   "targetLang": "fr",
   "useGoogleTranslate": true
  },
  "toc": {
   "base_numbering": 1,
   "nav_menu": {},
   "number_sections": true,
   "sideBar": true,
   "skip_h1_title": false,
   "title_cell": "Table of Contents",
   "title_sidebar": "Contents",
   "toc_cell": false,
   "toc_position": {},
   "toc_section_display": true,
   "toc_window_display": false
  },
  "varInspector": {
   "cols": {
    "lenName": 16,
    "lenType": 16,
    "lenVar": 40
   },
   "kernels_config": {
    "python": {
     "delete_cmd_postfix": "",
     "delete_cmd_prefix": "del ",
     "library": "var_list.py",
     "varRefreshCmd": "print(var_dic_list())"
    },
    "r": {
     "delete_cmd_postfix": ") ",
     "delete_cmd_prefix": "rm(",
     "library": "var_list.r",
     "varRefreshCmd": "cat(var_dic_list()) "
    }
   },
   "types_to_exclude": [
    "module",
    "function",
    "builtin_function_or_method",
    "instance",
    "_Feature"
   ],
   "window_display": false
  }
 },
 "nbformat": 4,
 "nbformat_minor": 5
}
